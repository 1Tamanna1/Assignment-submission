{
  "nbformat": 4,
  "nbformat_minor": 0,
  "metadata": {
    "colab": {
      "name": "Day 4 Assignment project",
      "provenance": [],
      "authorship_tag": "ABX9TyPozO1j2Gcp5wG2HkRvFyb8",
      "include_colab_link": true
    },
    "kernelspec": {
      "name": "python3",
      "display_name": "Python 3"
    },
    "language_info": {
      "name": "python"
    }
  },
  "cells": [
    {
      "cell_type": "markdown",
      "metadata": {
        "id": "view-in-github",
        "colab_type": "text"
      },
      "source": [
        "<a href=\"https://colab.research.google.com/github/1Tamanna1/Assignment-submission/blob/main/Day_4_Assignment_project.ipynb\" target=\"_parent\"><img src=\"https://colab.research.google.com/assets/colab-badge.svg\" alt=\"Open In Colab\"/></a>"
      ]
    },
    {
      "cell_type": "code",
      "metadata": {
        "id": "tr3m8k8f4V9L",
        "colab": {
          "base_uri": "https://localhost:8080/"
        },
        "outputId": "2b7e3f0f-bed4-4a4a-ae85-bfd5a0f4e089"
      },
      "source": [
        "print(\" Hey \")"
      ],
      "execution_count": null,
      "outputs": [
        {
          "output_type": "stream",
          "text": [
            " Hey \n"
          ],
          "name": "stdout"
        }
      ]
    },
    {
      "cell_type": "code",
      "metadata": {
        "id": "uTukAdgNDa_C",
        "colab": {
          "base_uri": "https://localhost:8080/"
        },
        "outputId": "41090749-5648-4f1a-8caa-c39cabf26cc9"
      },
      "source": [
        "!pip install TemperatureConverter\n"
      ],
      "execution_count": 65,
      "outputs": [
        {
          "output_type": "stream",
          "text": [
            "Collecting TemperatureConverter\n",
            "  Downloading TemperatureConverter-0.1.1.tar.gz (3.0 kB)\n",
            "Building wheels for collected packages: TemperatureConverter\n",
            "  Building wheel for TemperatureConverter (setup.py) ... \u001b[?25l\u001b[?25hdone\n",
            "  Created wheel for TemperatureConverter: filename=TemperatureConverter-0.1.1-py3-none-any.whl size=4821 sha256=2587cc082eb431d041aae5ec6470ca6ef352d6213def8396beb211381f193ae0\n",
            "  Stored in directory: /root/.cache/pip/wheels/d6/7c/69/8bf36af9c5ea8f3e2c7ffc10b3221f6d039a50cc655eacab4d\n",
            "Successfully built TemperatureConverter\n",
            "Installing collected packages: TemperatureConverter\n",
            "Successfully installed TemperatureConverter-0.1.1\n"
          ],
          "name": "stdout"
        }
      ]
    },
    {
      "cell_type": "code",
      "metadata": {
        "colab": {
          "base_uri": "https://localhost:8080/"
        },
        "id": "YRMAWC2UsPSh",
        "outputId": "e3b3a4fc-6659-444a-98de-654cd0696941"
      },
      "source": [
        "#!/usr/bin/env python\n",
        "Celsius = int(input(\"Enter a temperature in Celsius: \"))\n",
        "\n",
        "Fahrenheit = 9.0/5.0 * Celsius + 32\n",
        "\n",
        "print (\"Temperature:\", Celsius, \"Celsius = \", Fahrenheit, \" F\")\n",
        "\n"
      ],
      "execution_count": 72,
      "outputs": [
        {
          "output_type": "stream",
          "text": [
            "Enter a temperature in Celsius: 50\n",
            "Temperature: 50 Celsius =  122.0  F\n"
          ],
          "name": "stdout"
        }
      ]
    }
  ]
}