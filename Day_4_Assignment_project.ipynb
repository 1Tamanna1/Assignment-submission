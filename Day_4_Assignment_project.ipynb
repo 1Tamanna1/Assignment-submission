{
  "nbformat": 4,
  "nbformat_minor": 0,
  "metadata": {
    "colab": {
      "name": "Day 4 Assignment project",
      "provenance": [],
      "authorship_tag": "ABX9TyPfGwQCblleLzcjvQgh/zdL",
      "include_colab_link": true
    },
    "kernelspec": {
      "name": "python3",
      "display_name": "Python 3"
    },
    "language_info": {
      "name": "python"
    }
  },
  "cells": [
    {
      "cell_type": "markdown",
      "metadata": {
        "id": "view-in-github",
        "colab_type": "text"
      },
      "source": [
        "<a href=\"https://colab.research.google.com/github/1Tamanna1/Assignment-submission/blob/main/Day_4_Assignment_project.ipynb\" target=\"_parent\"><img src=\"https://colab.research.google.com/assets/colab-badge.svg\" alt=\"Open In Colab\"/></a>"
      ]
    },
    {
      "cell_type": "code",
      "metadata": {
        "id": "tr3m8k8f4V9L",
        "colab": {
          "base_uri": "https://localhost:8080/"
        },
        "outputId": "2b7e3f0f-bed4-4a4a-ae85-bfd5a0f4e089"
      },
      "source": [
        "print(\" Hey \")"
      ],
      "execution_count": 31,
      "outputs": [
        {
          "output_type": "stream",
          "text": [
            " Hey \n"
          ],
          "name": "stdout"
        }
      ]
    },
    {
      "cell_type": "code",
      "metadata": {
        "id": "uTukAdgNDa_C",
        "colab": {
          "base_uri": "https://localhost:8080/"
        },
        "outputId": "431cc0f7-fe75-4787-9d8b-0bcf866bd51d"
      },
      "source": [
        "!pip install temperature-converter-py==1.0.1\n"
      ],
      "execution_count": 41,
      "outputs": [
        {
          "output_type": "stream",
          "text": [
            "Requirement already satisfied: temperature-converter-py==1.0.1 in /usr/local/lib/python3.7/dist-packages (1.0.1)\n"
          ],
          "name": "stdout"
        }
      ]
    },
    {
      "cell_type": "code",
      "metadata": {
        "id": "vbJIt_2xFNSZ",
        "colab": {
          "base_uri": "https://localhost:8080/"
        },
        "outputId": "2b04acb9-aadd-4a33-cabe-282093129abc"
      },
      "source": [
        "#!/usr/bin/env python\n",
        "Celsius = int(input(\"Enter a temperature in Celsius: \"))\n",
        "\n",
        "Fahrenheit = 9.0/5.0 * Celsius + 32\n",
        "\n",
        "print (\"Temperature:\", Celsius, \"Celsius = \", Fahrenheit, \" F\")"
      ],
      "execution_count": 38,
      "outputs": [
        {
          "output_type": "stream",
          "text": [
            "Enter a temperature in Celsius: 50\n",
            "Temperature: 50 Celsius =  122.0  F\n"
          ],
          "name": "stdout"
        }
      ]
    }
  ]
}