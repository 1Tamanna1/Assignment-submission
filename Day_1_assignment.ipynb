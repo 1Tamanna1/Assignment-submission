{
  "nbformat": 4,
  "nbformat_minor": 0,
  "metadata": {
    "colab": {
      "name": "Day 1 assignment",
      "provenance": [],
      "authorship_tag": "ABX9TyMvzINY3n9llYh97TE+AfVB",
      "include_colab_link": true
    },
    "kernelspec": {
      "name": "python3",
      "display_name": "Python 3"
    },
    "language_info": {
      "name": "python"
    }
  },
  "cells": [
    {
      "cell_type": "markdown",
      "metadata": {
        "id": "view-in-github",
        "colab_type": "text"
      },
      "source": [
        "<a href=\"https://colab.research.google.com/github/1Tamanna1/Assignment-submission/blob/main/Day_1_assignment.ipynb\" target=\"_parent\"><img src=\"https://colab.research.google.com/assets/colab-badge.svg\" alt=\"Open In Colab\"/></a>"
      ]
    },
    {
      "cell_type": "code",
      "metadata": {
        "colab": {
          "base_uri": "https://localhost:8080/"
        },
        "id": "0t8YsANORxEY",
        "outputId": "7e900dda-b498-4312-fb0b-9e20fb626eda"
      },
      "source": [
        "x = int(input(\"Enter first value\"))\n",
        "y = int(input(\"Enter second value\"))\n",
        "\n",
        "print(type(x), type(y))\n",
        "\n",
        "print( x + y )"
      ],
      "execution_count": 12,
      "outputs": [
        {
          "output_type": "stream",
          "text": [
            "Enter first value50\n",
            "Enter second value20\n",
            "<class 'int'> <class 'int'>\n",
            "70\n"
          ],
          "name": "stdout"
        }
      ]
    },
    {
      "cell_type": "code",
      "metadata": {
        "colab": {
          "base_uri": "https://localhost:8080/"
        },
        "id": "YnYYmhztKbxt",
        "outputId": "639ad012-c452-4fbd-b422-05e48c438314"
      },
      "source": [
        "li = [100 , 49, 67, 35, 80, 29, 59]\n",
        "li.sort()\n",
        "print(li)"
      ],
      "execution_count": 6,
      "outputs": [
        {
          "output_type": "stream",
          "text": [
            "[29, 35, 49, 59, 67, 80, 100]\n"
          ],
          "name": "stdout"
        }
      ]
    },
    {
      "cell_type": "code",
      "metadata": {
        "colab": {
          "base_uri": "https://localhost:8080/"
        },
        "id": "rqsTYu6cQURw",
        "outputId": "3d6a3603-c5b2-4564-f115-22b749b7c541"
      },
      "source": [
        "li.reverse()\n",
        "print(li)"
      ],
      "execution_count": 9,
      "outputs": [
        {
          "output_type": "stream",
          "text": [
            "[100, 80, 67, 59, 49, 35, 29]\n"
          ],
          "name": "stdout"
        }
      ]
    }
  ]
}