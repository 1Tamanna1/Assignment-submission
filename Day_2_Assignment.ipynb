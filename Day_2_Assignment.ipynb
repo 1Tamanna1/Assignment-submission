{
  "nbformat": 4,
  "nbformat_minor": 0,
  "metadata": {
    "colab": {
      "name": "Day 2 Assignment",
      "provenance": [],
      "authorship_tag": "ABX9TyPFNB6L66M1zSZOnjGVq1kF",
      "include_colab_link": true
    },
    "kernelspec": {
      "display_name": "Python 3",
      "name": "python3"
    },
    "language_info": {
      "name": "python"
    }
  },
  "cells": [
    {
      "cell_type": "markdown",
      "metadata": {
        "id": "view-in-github",
        "colab_type": "text"
      },
      "source": [
        "<a href=\"https://colab.research.google.com/github/1Tamanna1/Assignment-submission/blob/main/Day_2_Assignment.ipynb\" target=\"_parent\"><img src=\"https://colab.research.google.com/assets/colab-badge.svg\" alt=\"Open In Colab\"/></a>"
      ]
    },
    {
      "cell_type": "code",
      "metadata": {
        "id": "_1VXZsYwOcEh"
      },
      "source": [
        "# ASSIGNMENT 2"
      ],
      "execution_count": 136,
      "outputs": []
    },
    {
      "cell_type": "code",
      "metadata": {
        "colab": {
          "base_uri": "https://localhost:8080/"
        },
        "id": "3Xo1FWISCoIl",
        "outputId": "e94bfa37-5b2a-4fc3-a620-0de7780b5b0e"
      },
      "source": [
        "li = [1, 2, 3, 4]\n",
        "print(li)\n",
        "li.append(4)\n",
        "print(li)\n",
        "li.append(5)\n",
        "print(li)"
      ],
      "execution_count": 137,
      "outputs": [
        {
          "output_type": "stream",
          "text": [
            "[1, 2, 3, 4]\n",
            "[1, 2, 3, 4, 4]\n",
            "[1, 2, 3, 4, 4, 5]\n"
          ],
          "name": "stdout"
        }
      ]
    },
    {
      "cell_type": "code",
      "metadata": {
        "id": "hJaCGzn4EggA",
        "colab": {
          "base_uri": "https://localhost:8080/"
        },
        "outputId": "50f2e0af-b153-46d0-a3db-94945761a997"
      },
      "source": [
        "li.remove(3)\n",
        "print(li)"
      ],
      "execution_count": 138,
      "outputs": [
        {
          "output_type": "stream",
          "text": [
            "[1, 2, 4, 4, 5]\n"
          ],
          "name": "stdout"
        }
      ]
    },
    {
      "cell_type": "code",
      "metadata": {
        "colab": {
          "base_uri": "https://localhost:8080/"
        },
        "id": "1XC0ZxfWNp1P",
        "outputId": "637e479d-9d43-4a01-cdc7-d9bcfb144c47"
      },
      "source": [
        "li.remove(4)\n",
        "print(li)"
      ],
      "execution_count": 139,
      "outputs": [
        {
          "output_type": "stream",
          "text": [
            "[1, 2, 4, 5]\n"
          ],
          "name": "stdout"
        }
      ]
    },
    {
      "cell_type": "code",
      "metadata": {
        "id": "4766c0zXOnUJ"
      },
      "source": [
        "# ASSIGNMENT 3"
      ],
      "execution_count": 140,
      "outputs": []
    },
    {
      "cell_type": "code",
      "metadata": {
        "id": "IFPLZSeZOvaI",
        "colab": {
          "base_uri": "https://localhost:8080/"
        },
        "outputId": "6cdcd3ad-8e9f-4cfc-d6dd-4a25c1b8f794"
      },
      "source": [
        "#  Project: OTP Generator\n",
        "import random as r \n",
        "import string\n",
        "lenght = 6\n",
        "otp = \" \"\n",
        "characters = string.ascii_letters + string.digits\n",
        "print(characters)\n",
        "\n",
        "for i in range(lenght):\n",
        "  otp = otp + r.choice(characters)\n",
        "\n",
        "print(\"OTP:\", otp)\n",
        "\n"
      ],
      "execution_count": 141,
      "outputs": [
        {
          "output_type": "stream",
          "text": [
            "abcdefghijklmnopqrstuvwxyzABCDEFGHIJKLMNOPQRSTUVWXYZ0123456789\n",
            "OTP:  hbZ0xE\n"
          ],
          "name": "stdout"
        }
      ]
    }
  ]
}